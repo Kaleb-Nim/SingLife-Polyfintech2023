{
 "cells": [
  {
   "attachments": {},
   "cell_type": "markdown",
   "metadata": {},
   "source": [
    "## Pinecone Langchain Documentation \n",
    "\n",
    "Test out the powers of pinecone + langchain on news dataset"
   ]
  },
  {
   "attachments": {},
   "cell_type": "markdown",
   "metadata": {},
   "source": [
    "## Building the Knowledge Base\n",
    "\n",
    "For this example use case we will just use the news_dataset as our \"Custom Knowledge Base\". \n",
    "\n"
   ]
  },
  {
   "cell_type": "code",
   "execution_count": 1,
   "metadata": {},
   "outputs": [
    {
     "name": "stderr",
     "output_type": "stream",
     "text": [
      "c:\\Users\\51703\\Documents\\GitHub\\SingLife-Polyfintech2023\\env\\lib\\site-packages\\tqdm\\auto.py:21: TqdmWarning: IProgress not found. Please update jupyter and ipywidgets. See https://ipywidgets.readthedocs.io/en/stable/user_install.html\n",
      "  from .autonotebook import tqdm as notebook_tqdm\n",
      "Downloading builder script: 100%|██████████| 35.9k/35.9k [00:00<00:00, 379kB/s]\n",
      "Downloading metadata: 100%|██████████| 30.4k/30.4k [00:00<00:00, 15.1MB/s]\n",
      "Downloading readme: 100%|██████████| 16.3k/16.3k [00:00<00:00, 2.33MB/s]\n"
     ]
    },
    {
     "name": "stdout",
     "output_type": "stream",
     "text": [
      "Downloading and preparing dataset wikipedia/20220301.simple to C:/Users/51703/.cache/huggingface/datasets/wikipedia/20220301.simple/2.0.0/aa542ed919df55cc5d3347f42dd4521d05ca68751f50dbc32bae2a7f1e167559...\n"
     ]
    },
    {
     "name": "stderr",
     "output_type": "stream",
     "text": [
      "Downloading: 100%|██████████| 1.66k/1.66k [00:00<00:00, 1.66MB/s]\n",
      "Downloading: 100%|██████████| 235M/235M [00:20<00:00, 11.5MB/s] \n"
     ]
    },
    {
     "ename": "ModuleNotFoundError",
     "evalue": "No module named 'apache_beam'",
     "output_type": "error",
     "traceback": [
      "\u001b[1;31m---------------------------------------------------------------------------\u001b[0m",
      "\u001b[1;31mModuleNotFoundError\u001b[0m                       Traceback (most recent call last)",
      "Cell \u001b[1;32mIn[1], line 3\u001b[0m\n\u001b[0;32m      1\u001b[0m \u001b[39mfrom\u001b[39;00m \u001b[39mdatasets\u001b[39;00m \u001b[39mimport\u001b[39;00m load_dataset\n\u001b[1;32m----> 3\u001b[0m data \u001b[39m=\u001b[39m load_dataset(\u001b[39m\"\u001b[39;49m\u001b[39mwikipedia\u001b[39;49m\u001b[39m\"\u001b[39;49m, \u001b[39m\"\u001b[39;49m\u001b[39m20220301.simple\u001b[39;49m\u001b[39m\"\u001b[39;49m, split\u001b[39m=\u001b[39;49m\u001b[39m'\u001b[39;49m\u001b[39mtrain[:10000]\u001b[39;49m\u001b[39m'\u001b[39;49m)\n\u001b[0;32m      4\u001b[0m data\n",
      "File \u001b[1;32mc:\\Users\\51703\\Documents\\GitHub\\SingLife-Polyfintech2023\\env\\lib\\site-packages\\datasets\\load.py:1809\u001b[0m, in \u001b[0;36mload_dataset\u001b[1;34m(path, name, data_dir, data_files, split, cache_dir, features, download_config, download_mode, verification_mode, ignore_verifications, keep_in_memory, save_infos, revision, use_auth_token, task, streaming, num_proc, storage_options, **config_kwargs)\u001b[0m\n\u001b[0;32m   1806\u001b[0m try_from_hf_gcs \u001b[39m=\u001b[39m path \u001b[39mnot\u001b[39;00m \u001b[39min\u001b[39;00m _PACKAGED_DATASETS_MODULES\n\u001b[0;32m   1808\u001b[0m \u001b[39m# Download and prepare data\u001b[39;00m\n\u001b[1;32m-> 1809\u001b[0m builder_instance\u001b[39m.\u001b[39;49mdownload_and_prepare(\n\u001b[0;32m   1810\u001b[0m     download_config\u001b[39m=\u001b[39;49mdownload_config,\n\u001b[0;32m   1811\u001b[0m     download_mode\u001b[39m=\u001b[39;49mdownload_mode,\n\u001b[0;32m   1812\u001b[0m     verification_mode\u001b[39m=\u001b[39;49mverification_mode,\n\u001b[0;32m   1813\u001b[0m     try_from_hf_gcs\u001b[39m=\u001b[39;49mtry_from_hf_gcs,\n\u001b[0;32m   1814\u001b[0m     num_proc\u001b[39m=\u001b[39;49mnum_proc,\n\u001b[0;32m   1815\u001b[0m     storage_options\u001b[39m=\u001b[39;49mstorage_options,\n\u001b[0;32m   1816\u001b[0m )\n\u001b[0;32m   1818\u001b[0m \u001b[39m# Build dataset for splits\u001b[39;00m\n\u001b[0;32m   1819\u001b[0m keep_in_memory \u001b[39m=\u001b[39m (\n\u001b[0;32m   1820\u001b[0m     keep_in_memory \u001b[39mif\u001b[39;00m keep_in_memory \u001b[39mis\u001b[39;00m \u001b[39mnot\u001b[39;00m \u001b[39mNone\u001b[39;00m \u001b[39melse\u001b[39;00m is_small_dataset(builder_instance\u001b[39m.\u001b[39minfo\u001b[39m.\u001b[39mdataset_size)\n\u001b[0;32m   1821\u001b[0m )\n",
      "File \u001b[1;32mc:\\Users\\51703\\Documents\\GitHub\\SingLife-Polyfintech2023\\env\\lib\\site-packages\\datasets\\builder.py:920\u001b[0m, in \u001b[0;36mDatasetBuilder.download_and_prepare\u001b[1;34m(self, output_dir, download_config, download_mode, verification_mode, ignore_verifications, try_from_hf_gcs, dl_manager, base_path, use_auth_token, file_format, max_shard_size, num_proc, storage_options, **download_and_prepare_kwargs)\u001b[0m\n\u001b[0;32m    918\u001b[0m         \u001b[39mself\u001b[39m\u001b[39m.\u001b[39minfo\u001b[39m.\u001b[39msize_in_bytes \u001b[39m=\u001b[39m \u001b[39mself\u001b[39m\u001b[39m.\u001b[39minfo\u001b[39m.\u001b[39mdataset_size \u001b[39m+\u001b[39m \u001b[39mself\u001b[39m\u001b[39m.\u001b[39minfo\u001b[39m.\u001b[39mdownload_size\n\u001b[0;32m    919\u001b[0m         \u001b[39m# Save info\u001b[39;00m\n\u001b[1;32m--> 920\u001b[0m         \u001b[39mself\u001b[39;49m\u001b[39m.\u001b[39;49m_save_info()\n\u001b[0;32m    922\u001b[0m \u001b[39m# Download post processing resources\u001b[39;00m\n\u001b[0;32m    923\u001b[0m \u001b[39mself\u001b[39m\u001b[39m.\u001b[39mdownload_post_processing_resources(dl_manager)\n",
      "File \u001b[1;32mc:\\Users\\51703\\Documents\\GitHub\\SingLife-Polyfintech2023\\env\\lib\\site-packages\\datasets\\builder.py:2056\u001b[0m, in \u001b[0;36mBeamBasedBuilder._save_info\u001b[1;34m(self)\u001b[0m\n\u001b[0;32m   2055\u001b[0m \u001b[39mdef\u001b[39;00m \u001b[39m_save_info\u001b[39m(\u001b[39mself\u001b[39m):\n\u001b[1;32m-> 2056\u001b[0m     \u001b[39mimport\u001b[39;00m \u001b[39mapache_beam\u001b[39;00m \u001b[39mas\u001b[39;00m \u001b[39mbeam\u001b[39;00m\n\u001b[0;32m   2058\u001b[0m     fs \u001b[39m=\u001b[39m beam\u001b[39m.\u001b[39mio\u001b[39m.\u001b[39mfilesystems\u001b[39m.\u001b[39mFileSystems\n\u001b[0;32m   2059\u001b[0m     path_join \u001b[39m=\u001b[39m os\u001b[39m.\u001b[39mpath\u001b[39m.\u001b[39mjoin \u001b[39mif\u001b[39;00m \u001b[39mnot\u001b[39;00m is_remote_filesystem(\u001b[39mself\u001b[39m\u001b[39m.\u001b[39m_fs) \u001b[39melse\u001b[39;00m posixpath\u001b[39m.\u001b[39mjoin\n",
      "\u001b[1;31mModuleNotFoundError\u001b[0m: No module named 'apache_beam'"
     ]
    }
   ],
   "source": [
    "from datasets import load_dataset\n",
    "\n",
    "data = load_dataset(\"wikipedia\", \"20220301.simple\", split='train[:10000]')\n",
    "data"
   ]
  },
  {
   "attachments": {},
   "cell_type": "markdown",
   "metadata": {},
   "source": [
    "## Preprocessing methdology"
   ]
  },
  {
   "attachments": {},
   "cell_type": "markdown",
   "metadata": {},
   "source": [
    "Every record contains a lot of text. Our first task is therefore to identify a good preprocessing methodology for chunking these articles into more \"concise\" chunks to later be embedding and stored in our Pinecone vector database."
   ]
  }
 ],
 "metadata": {
  "kernelspec": {
   "display_name": "env",
   "language": "python",
   "name": "python3"
  },
  "language_info": {
   "codemirror_mode": {
    "name": "ipython",
    "version": 3
   },
   "file_extension": ".py",
   "mimetype": "text/x-python",
   "name": "python",
   "nbconvert_exporter": "python",
   "pygments_lexer": "ipython3",
   "version": "3.10.10"
  },
  "orig_nbformat": 4
 },
 "nbformat": 4,
 "nbformat_minor": 2
}
