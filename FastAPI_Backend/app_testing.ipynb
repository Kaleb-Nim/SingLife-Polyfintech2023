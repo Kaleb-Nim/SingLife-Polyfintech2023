{
 "cells": [
  {
   "cell_type": "code",
   "execution_count": 12,
   "metadata": {},
   "outputs": [],
   "source": [
    "import openai \n",
    "from llm.chains import chat \n",
    "from utils import formatQuery\n",
    "import json"
   ]
  },
  {
   "cell_type": "code",
   "execution_count": 2,
   "metadata": {},
   "outputs": [],
   "source": [
    "output = chat(relevant_documents=\"\"\"Have two or more of your biological parents, brothers or sisters ever been diagnosed with cancer before age 50?\\nIf Yes, please complete the following:\\nAssured / Life Assured\\nType of cancer Relationship Age at Age at death\\ndiagnosis (if deceased)\\nPSDEC004.08 (042023) Page 7 of 11\\nSingapore Life Ltd. 4 Shenton Way #01-01 SGX Centre 2 Singapore 068807 • Tel: (65) 6827 9933 singlife.com\\nCompany Reg. No. 196900499K GST Reg. No. MR8500166-8 10. SINGLIFE SIMPLE TERM\\nLife Assured\\nFor Singlife Simple Term\\nYes No\\n1. What is your height and weight? Height (m) :\\nWeight (kg) :\\n2. Are you a smoker? If Yes, how many sticks of cigarettes do you smoke per day in the last 12 months? (including social\\nsmokers, cigar smokers or those who have given up within the last 12 months)\\nSticks per day\\n3. Have you ever had or been treated for:\\na. Cancer or Carcinoma-in-situ,\\nb. Chest pain, heart attack or coronary heart disease,\\nc. Stroke or transient ischaemic attack,\\nd. Diabetes,\\ne. Chronic kidney disease\\nf. Arthritis?\\n4. In the last 5 years, have you had:\\na. Blood disorder\\nenvironmental or human losses, such as avalanche, earthquake, flood, forest fire,\\nhurricane, landslides, lightning, tornado, tsunami, typhoon or volcanic eruption.\\nChild Persons under 18 years old or persons from 18 years old up to 23 years old who are\\nstudying full-time in a recognised institute of higher learning and are not married,\\nwho are biologically or legally related to an adult who is named in Your Schedule.\\nWe determine the age as at the date of policy inception with reference to the date\\nof birth.\\nClose Business Associate Someone You work with in Singapore who has to be at work in order for You to be\\nable to go on or continue a Trip. A senior manager or director of the business must\\nconfirm this.\\nClose Relative Your mother, father, sister, brother, legal partner or partner who lives with You,\\nfiancé(e), daughter, son, grandparent, grandchild, parent-in-law, daughter-in-law,\\nson-in-law, brother-in-law, sister-in-law, step-parent, step-child, step-sister, step-brother,\\naunt, uncle, cousin, nephew, niece, legal guardian or foster child.\\nDepreciation Scale The depreciation scale set out below which applies for any sports equipment including\\nGolfing Equipment, Water Sports Equipment and Winter Sports Equipment that\\nYou bring on a Trip.\\n• Up to one year old, 90% of the purchase price.\\n• Up to two years old, 70% of the purchase price.\\n• Up to three years old, 50% of the purchase price.\\n• Up to four years old, 30% of the purchase price.\\n• Over four years old, 20% of the purchase price.\\nDoctor A registered practising member of the medical profession with a recognised degree\"\"\",query=\"I have a family with two kids, what can I get\")"
   ]
  },
  {
   "cell_type": "code",
   "execution_count": 18,
   "metadata": {},
   "outputs": [
    {
     "data": {
      "text/plain": [
       "ChatCompletionMessage(content=None, role='assistant', function_call=FunctionCall(arguments='{\"list_of_scenes\":[{\"scene\":\"Family Planning\",\"subtitles\":[\"So, you\\'ve got a mini soccer team?\"]},{\"scene\":\"Insurance Benefits\",\"subtitles\":[\"Get peace of mind for your squad.\"]}]}', name='format_video_script'), tool_calls=None)"
      ]
     },
     "execution_count": 18,
     "metadata": {},
     "output_type": "execute_result"
    }
   ],
   "source": [
    "output"
   ]
  },
  {
   "cell_type": "code",
   "execution_count": null,
   "metadata": {},
   "outputs": [],
   "source": [
    "def parse_json_output(output):\n",
    "    \"\"\"Parse the json output from the openai ChatCompletionMessage\"\"\"\n",
    "\n",
    "    try:\n",
    "        json_ouput = output.function_call.arguments\n",
    "        json_ouput = json.loads(json_ouput)\n",
    "    except Exception as e:\n",
    "        print(e)\n",
    "    \n",
    "    return json_ouput"
   ]
  },
  {
   "cell_type": "code",
   "execution_count": 17,
   "metadata": {},
   "outputs": [
    {
     "name": "stdout",
     "output_type": "stream",
     "text": [
      "json_ouput:  {'list_of_scenes': [{'scene': 'Family Planning', 'subtitles': [\"So, you've got a mini soccer team?\"]}, {'scene': 'Insurance Benefits', 'subtitles': ['Get peace of mind for your squad.']}]}\n"
     ]
    }
   ],
   "source": [
    "json_ouput = output.function_call.arguments\n",
    "\n",
    "# convert from string to json\n",
    "json_ouput = json.loads(json_ouput)\n",
    "print('json_ouput: ', json_ouput)\n"
   ]
  },
  {
   "cell_type": "code",
   "execution_count": 4,
   "metadata": {},
   "outputs": [
    {
     "data": {
      "text/plain": [
       "{'user_query': \"My customer's name is John Doe. He is primarily concerned about the following:\\n1. I take up freelance work as a food delivery rider during the day, as well as a bartender at night. How do I ensure that I’m protected during those shifts in case of accident? \\n\\n2. I’m 25 years old, and I would like to start planning my finances. What should be my financial goals? \\n\\n3. How do I cope with the mental stress of having to balance between my work commitments with my part-time studies?\\n\\n Additionally, he needs the following:\\nIf I get into an accident during any of my jobs, I cannot afford to pay the bills.\\n\\nI want to have a better job and to be able to afford a home in the future. But I don’t know how to plan for my future.\\n\\nHe also has the following lifestyle:\\nHave a special interest in mixology, but working late at night can be tiring.\\n\\nAd-hoc food delivery / ride-hailing for side-income\\n\\nStressed about the future, want to be able to upskill and have a better career\\n\\n| With regards to the above information, what relevant financial services are avalible for him?\",\n",
       " 'pinecone_query': '1. I take up freelance work as a food delivery rider during the day, as well as a bartender at night. How do I ensure that I’m protected during those shifts in case of accident? \\n\\n2. I’m 25 years old, and I would like to start planning my finances. What should be my financial goals? \\n\\n3. How do I cope with the mental stress of having to balance between my work commitments with my part-time studies?Additionally, he needs the following:\\nIf I get into an accident during any of my jobs, I cannot afford to pay the bills.\\n\\nI want to have a better job and to be able to afford a home in the future. But I don’t know how to plan for my future.\\n\\nHe also has the following lifestyle:\\nHave a special interest in mixology, but working late at night can be tiring.\\n\\nAd-hoc food delivery / ride-hailing for side-income\\n\\nStressed about the future, want to be able to upskill and have a better career\\n\\n|'}"
      ]
     },
     "execution_count": 4,
     "metadata": {},
     "output_type": "execute_result"
    }
   ],
   "source": [
    "concerns = \"\"\"1. I take up freelance work as a food delivery rider during the day, as well as a bartender at night. How do I ensure that I’m protected during those shifts in case of accident? \n",
    "\n",
    "2. I’m 25 years old, and I would like to start planning my finances. What should be my financial goals? \n",
    "\n",
    "3. How do I cope with the mental stress of having to balance between my work commitments with my part-time studies?\"\"\"\n",
    "lifestyle = \"\"\"Have a special interest in mixology, but working late at night can be tiring.\n",
    "\n",
    "Ad-hoc food delivery / ride-hailing for side-income\n",
    "\n",
    "Stressed about the future, want to be able to upskill and have a better career\n",
    "\"\"\"\n",
    "needs = \"\"\"If I get into an accident during any of my jobs, I cannot afford to pay the bills.\n",
    "\n",
    "I want to have a better job and to be able to afford a home in the future. But I don’t know how to plan for my future.\n",
    "\"\"\"\n",
    "user_information = {\n",
    "    \"name\" : \"John Doe\",\n",
    "    \"concerns\": concerns,\n",
    "    \"lifestyle\": lifestyle,\n",
    "    \"needs\": needs\n",
    "}\n",
    "\n",
    "query = formatQuery(user_information)\n",
    "query"
   ]
  }
 ],
 "metadata": {
  "kernelspec": {
   "display_name": "env",
   "language": "python",
   "name": "python3"
  },
  "language_info": {
   "codemirror_mode": {
    "name": "ipython",
    "version": 3
   },
   "file_extension": ".py",
   "mimetype": "text/x-python",
   "name": "python",
   "nbconvert_exporter": "python",
   "pygments_lexer": "ipython3",
   "version": "3.10.11"
  }
 },
 "nbformat": 4,
 "nbformat_minor": 2
}
