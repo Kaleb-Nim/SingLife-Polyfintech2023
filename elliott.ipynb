{
 "cells": [
  {
   "cell_type": "code",
   "execution_count": 9,
   "metadata": {},
   "outputs": [],
   "source": [
    "prompt_out = \"\"\"[Scene: family winter]\\n\n",
    "Subtitle 1: \"Are you ready for an unforgettable family ski trip to Japan?\"\\n\n",
    "Subtitle 2: \"Ensure your adventure is worry-free with Singlife's travel insurance!\"\\n\n",
    "[Scene: travel insurance]\\n\n",
    "Subtitle 3: \"Our comprehensive travel insurance plans cater to your needs.\"\\n\n",
    "Subtitle 4: \"Peace of mind throughout your journey.\"\\n\n",
    "[Scene: coverage benefits]\\n\n",
    "Subtitle 5: \"From emergency medical expenses to trip cancellation protection.\"\\n\n",
    "Subtitle 6: \"Singlife has you covered.\"\\n\n",
    "[Scene: ski lift.]\\n\n",
    "Subtitle 7: \"Enjoy the slopes with confidence.\"\\n\n",
    "Subtitle 8: \"Specialized coverage for winter sports activities.\"\\n\n",
    "[Scene: ski jump]\\n\n",
    "Subtitle 9: \"Carve through the powder with peace of mind.\"\\n\n",
    "Subtitle 10: \"Don't let unexpected events ruin your ski trip.\"\\n\n",
    "[Scene: cozy fireplace family]\\n\n",
    "Subtitle 11: \"Trust Singlife to safeguard your family's adventure.\"\\n\n",
    "[Scene: Singlife logo and contact information displayed.]\\n\n",
    "Subtitle 12: \"Explore our travel insurance plans on our website.\"\\n\n",
    "Subtitle 13: \"Call us today for more information.\"\\n\n",
    "[Closing shot: The family raising their ski poles in celebration, with a breathtaking mountain backdrop.]\\n\n",
    "Subtitle 14: \"Singlife, protecting your family's ski adventures.\"\\n\n",
    "Subtitle 15: \"Create unforgettable memories together.\"\"\""
   ]
  },
  {
   "cell_type": "code",
   "execution_count": 10,
   "metadata": {},
   "outputs": [],
   "source": [
    "individual_lines = [i for i in prompt_out.split('\\n') if i != '']"
   ]
  },
  {
   "cell_type": "code",
   "execution_count": 14,
   "metadata": {},
   "outputs": [
    {
     "name": "stdout",
     "output_type": "stream",
     "text": [
      "family winter\n",
      "travel insurance\n",
      "coverage benefits\n",
      "ski lift.\n",
      "ski jump\n",
      "cozy fireplace family\n",
      "Singlife logo and contact information displayed.\n",
      "Closing shot: The family raising their ski poles in celebration, with a breathtaking mountain backdrop.\n"
     ]
    }
   ],
   "source": [
    "for line in individual_lines:\n",
    "    if line.startswith('Subtitle'):\n",
    "        subtitle_num = line.split(':')[0].split(' ')[1]\n",
    "        subtitle_text = line.split(':')[1].strip().replace('\"', '')\n",
    "    elif line.startswith('['):\n",
    "        image_prompt = line.split(']')[0].replace('[', '')\n",
    "        image_prompt = image_prompt.replace('Scene: ', '')\n",
    "        print(image_prompt)\n",
    "    "
   ]
  },
  {
   "cell_type": "code",
   "execution_count": null,
   "metadata": {},
   "outputs": [],
   "source": []
  },
  {
   "cell_type": "code",
   "execution_count": null,
   "metadata": {},
   "outputs": [],
   "source": []
  }
 ],
 "metadata": {
  "kernelspec": {
   "display_name": "Python 3",
   "language": "python",
   "name": "python3"
  },
  "language_info": {
   "codemirror_mode": {
    "name": "ipython",
    "version": 3
   },
   "file_extension": ".py",
   "mimetype": "text/x-python",
   "name": "python",
   "nbconvert_exporter": "python",
   "pygments_lexer": "ipython3",
   "version": "3.10.3"
  },
  "orig_nbformat": 4
 },
 "nbformat": 4,
 "nbformat_minor": 2
}
